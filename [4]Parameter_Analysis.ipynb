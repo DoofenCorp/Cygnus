{
 "cells": [
  {
   "cell_type": "code",
   "execution_count": 4,
   "id": "0a229b71",
   "metadata": {},
   "outputs": [],
   "source": [
    "from dipy.io.image import load_nifti\n",
    "\n",
    "data, affine, img = load_nifti(\"tensor_fa.nii\", return_img = True)"
   ]
  },
  {
   "cell_type": "code",
   "execution_count": null,
   "id": "151d700e",
   "metadata": {},
   "outputs": [],
   "source": []
  }
 ],
 "metadata": {
  "kernelspec": {
   "display_name": "Python 3 (ipykernel)",
   "language": "python",
   "name": "python3"
  },
  "language_info": {
   "codemirror_mode": {
    "name": "ipython",
    "version": 3
   },
   "file_extension": ".py",
   "mimetype": "text/x-python",
   "name": "python",
   "nbconvert_exporter": "python",
   "pygments_lexer": "ipython3",
   "version": "3.10.0"
  }
 },
 "nbformat": 4,
 "nbformat_minor": 5
}
